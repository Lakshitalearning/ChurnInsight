{
  "nbformat": 4,
  "nbformat_minor": 0,
  "metadata": {
    "colab": {
      "provenance": [],
      "authorship_tag": "ABX9TyOBjASGhNPE64QhEalPWz1R",
      "include_colab_link": true
    },
    "kernelspec": {
      "name": "python3",
      "display_name": "Python 3"
    },
    "language_info": {
      "name": "python"
    }
  },
  "cells": [
    {
      "cell_type": "markdown",
      "metadata": {
        "id": "view-in-github",
        "colab_type": "text"
      },
      "source": [
        "<a href=\"https://colab.research.google.com/github/Lakshitalearning/Churn_Prediction_App/blob/main/Customer_churn_prediction.ipynb\" target=\"_parent\"><img src=\"https://colab.research.google.com/assets/colab-badge.svg\" alt=\"Open In Colab\"/></a>"
      ]
    },
    {
      "cell_type": "code",
      "execution_count": null,
      "metadata": {
        "id": "7ni3T1R_Sy1e",
        "colab": {
          "base_uri": "https://localhost:8080/"
        },
        "outputId": "3cb00722-1aa3-43a9-d652-36e429a0fe70"
      },
      "outputs": [
        {
          "output_type": "stream",
          "name": "stdout",
          "text": [
            "Requirement already satisfied: scipy in /usr/local/lib/python3.10/dist-packages (1.14.0)\n",
            "Requirement already satisfied: numpy<2.3,>=1.23.5 in /usr/local/lib/python3.10/dist-packages (from scipy) (1.25.2)\n",
            "Requirement already satisfied: scikit-learn in /usr/local/lib/python3.10/dist-packages (1.3.2)\n",
            "Requirement already satisfied: numpy<2.0,>=1.17.3 in /usr/local/lib/python3.10/dist-packages (from scikit-learn) (1.25.2)\n",
            "Requirement already satisfied: scipy>=1.5.0 in /usr/local/lib/python3.10/dist-packages (from scikit-learn) (1.14.0)\n",
            "Requirement already satisfied: joblib>=1.1.1 in /usr/local/lib/python3.10/dist-packages (from scikit-learn) (1.4.2)\n",
            "Requirement already satisfied: threadpoolctl>=2.0.0 in /usr/local/lib/python3.10/dist-packages (from scikit-learn) (3.5.0)\n",
            "\u001b[31mERROR: Invalid requirement: 'numpy==1.25.': Expected end or semicolon (after version specifier)\n",
            "    numpy==1.25.\n",
            "         ~~~~~~^\u001b[0m\u001b[31m\n",
            "\u001b[0m1.3.2\n",
            "1.25.2\n"
          ]
        }
      ],
      "source": [
        "# !pip install --upgrade numpy\n",
        "!pip install --upgrade scipy\n",
        "!pip install scikit-learn\n",
        "!pip install numpy==1.25.\n",
        "import joblib\n",
        "import numpy as np\n",
        "import pandas as pd\n",
        "import tensorflow as tf\n",
        "import matplotlib.pyplot as plt\n",
        "import importlib\n",
        "import sklearn\n",
        "from sklearn.utils import resample\n",
        "print(sklearn.__version__) # Print the version of the sklearn library\n",
        "print(np.__version__)"
      ]
    },
    {
      "cell_type": "code",
      "source": [
        "dataset=pd.read_csv('Churn_Modelling.csv')\n",
        "dataset.head(1)"
      ],
      "metadata": {
        "colab": {
          "base_uri": "https://localhost:8080/",
          "height": 81
        },
        "id": "4_8g2v2sT8he",
        "outputId": "a41db534-2a0a-49ca-8723-7433c29ec29d"
      },
      "execution_count": null,
      "outputs": [
        {
          "output_type": "execute_result",
          "data": {
            "text/plain": [
              "   RowNumber  CustomerId   Surname  CreditScore Geography  Gender  Age  \\\n",
              "0          1    15634602  Hargrave          619    France  Female   42   \n",
              "\n",
              "   Tenure  Balance  NumOfProducts  HasCrCard  IsActiveMember  EstimatedSalary  \\\n",
              "0       2      0.0              1          1               1        101348.88   \n",
              "\n",
              "   Exited  \n",
              "0       1  "
            ],
            "text/html": [
              "\n",
              "  <div id=\"df-7f94436b-d3b3-4242-a3cd-66450a8a1cc8\" class=\"colab-df-container\">\n",
              "    <div>\n",
              "<style scoped>\n",
              "    .dataframe tbody tr th:only-of-type {\n",
              "        vertical-align: middle;\n",
              "    }\n",
              "\n",
              "    .dataframe tbody tr th {\n",
              "        vertical-align: top;\n",
              "    }\n",
              "\n",
              "    .dataframe thead th {\n",
              "        text-align: right;\n",
              "    }\n",
              "</style>\n",
              "<table border=\"1\" class=\"dataframe\">\n",
              "  <thead>\n",
              "    <tr style=\"text-align: right;\">\n",
              "      <th></th>\n",
              "      <th>RowNumber</th>\n",
              "      <th>CustomerId</th>\n",
              "      <th>Surname</th>\n",
              "      <th>CreditScore</th>\n",
              "      <th>Geography</th>\n",
              "      <th>Gender</th>\n",
              "      <th>Age</th>\n",
              "      <th>Tenure</th>\n",
              "      <th>Balance</th>\n",
              "      <th>NumOfProducts</th>\n",
              "      <th>HasCrCard</th>\n",
              "      <th>IsActiveMember</th>\n",
              "      <th>EstimatedSalary</th>\n",
              "      <th>Exited</th>\n",
              "    </tr>\n",
              "  </thead>\n",
              "  <tbody>\n",
              "    <tr>\n",
              "      <th>0</th>\n",
              "      <td>1</td>\n",
              "      <td>15634602</td>\n",
              "      <td>Hargrave</td>\n",
              "      <td>619</td>\n",
              "      <td>France</td>\n",
              "      <td>Female</td>\n",
              "      <td>42</td>\n",
              "      <td>2</td>\n",
              "      <td>0.0</td>\n",
              "      <td>1</td>\n",
              "      <td>1</td>\n",
              "      <td>1</td>\n",
              "      <td>101348.88</td>\n",
              "      <td>1</td>\n",
              "    </tr>\n",
              "  </tbody>\n",
              "</table>\n",
              "</div>\n",
              "    <div class=\"colab-df-buttons\">\n",
              "\n",
              "  <div class=\"colab-df-container\">\n",
              "    <button class=\"colab-df-convert\" onclick=\"convertToInteractive('df-7f94436b-d3b3-4242-a3cd-66450a8a1cc8')\"\n",
              "            title=\"Convert this dataframe to an interactive table.\"\n",
              "            style=\"display:none;\">\n",
              "\n",
              "  <svg xmlns=\"http://www.w3.org/2000/svg\" height=\"24px\" viewBox=\"0 -960 960 960\">\n",
              "    <path d=\"M120-120v-720h720v720H120Zm60-500h600v-160H180v160Zm220 220h160v-160H400v160Zm0 220h160v-160H400v160ZM180-400h160v-160H180v160Zm440 0h160v-160H620v160ZM180-180h160v-160H180v160Zm440 0h160v-160H620v160Z\"/>\n",
              "  </svg>\n",
              "    </button>\n",
              "\n",
              "  <style>\n",
              "    .colab-df-container {\n",
              "      display:flex;\n",
              "      gap: 12px;\n",
              "    }\n",
              "\n",
              "    .colab-df-convert {\n",
              "      background-color: #E8F0FE;\n",
              "      border: none;\n",
              "      border-radius: 50%;\n",
              "      cursor: pointer;\n",
              "      display: none;\n",
              "      fill: #1967D2;\n",
              "      height: 32px;\n",
              "      padding: 0 0 0 0;\n",
              "      width: 32px;\n",
              "    }\n",
              "\n",
              "    .colab-df-convert:hover {\n",
              "      background-color: #E2EBFA;\n",
              "      box-shadow: 0px 1px 2px rgba(60, 64, 67, 0.3), 0px 1px 3px 1px rgba(60, 64, 67, 0.15);\n",
              "      fill: #174EA6;\n",
              "    }\n",
              "\n",
              "    .colab-df-buttons div {\n",
              "      margin-bottom: 4px;\n",
              "    }\n",
              "\n",
              "    [theme=dark] .colab-df-convert {\n",
              "      background-color: #3B4455;\n",
              "      fill: #D2E3FC;\n",
              "    }\n",
              "\n",
              "    [theme=dark] .colab-df-convert:hover {\n",
              "      background-color: #434B5C;\n",
              "      box-shadow: 0px 1px 3px 1px rgba(0, 0, 0, 0.15);\n",
              "      filter: drop-shadow(0px 1px 2px rgba(0, 0, 0, 0.3));\n",
              "      fill: #FFFFFF;\n",
              "    }\n",
              "  </style>\n",
              "\n",
              "    <script>\n",
              "      const buttonEl =\n",
              "        document.querySelector('#df-7f94436b-d3b3-4242-a3cd-66450a8a1cc8 button.colab-df-convert');\n",
              "      buttonEl.style.display =\n",
              "        google.colab.kernel.accessAllowed ? 'block' : 'none';\n",
              "\n",
              "      async function convertToInteractive(key) {\n",
              "        const element = document.querySelector('#df-7f94436b-d3b3-4242-a3cd-66450a8a1cc8');\n",
              "        const dataTable =\n",
              "          await google.colab.kernel.invokeFunction('convertToInteractive',\n",
              "                                                    [key], {});\n",
              "        if (!dataTable) return;\n",
              "\n",
              "        const docLinkHtml = 'Like what you see? Visit the ' +\n",
              "          '<a target=\"_blank\" href=https://colab.research.google.com/notebooks/data_table.ipynb>data table notebook</a>'\n",
              "          + ' to learn more about interactive tables.';\n",
              "        element.innerHTML = '';\n",
              "        dataTable['output_type'] = 'display_data';\n",
              "        await google.colab.output.renderOutput(dataTable, element);\n",
              "        const docLink = document.createElement('div');\n",
              "        docLink.innerHTML = docLinkHtml;\n",
              "        element.appendChild(docLink);\n",
              "      }\n",
              "    </script>\n",
              "  </div>\n",
              "\n",
              "\n",
              "    </div>\n",
              "  </div>\n"
            ],
            "application/vnd.google.colaboratory.intrinsic+json": {
              "type": "dataframe",
              "variable_name": "dataset",
              "summary": "{\n  \"name\": \"dataset\",\n  \"rows\": 10000,\n  \"fields\": [\n    {\n      \"column\": \"RowNumber\",\n      \"properties\": {\n        \"dtype\": \"number\",\n        \"std\": 2886,\n        \"min\": 1,\n        \"max\": 10000,\n        \"num_unique_values\": 10000,\n        \"samples\": [\n          6253,\n          4685,\n          1732\n        ],\n        \"semantic_type\": \"\",\n        \"description\": \"\"\n      }\n    },\n    {\n      \"column\": \"CustomerId\",\n      \"properties\": {\n        \"dtype\": \"number\",\n        \"std\": 71936,\n        \"min\": 15565701,\n        \"max\": 15815690,\n        \"num_unique_values\": 10000,\n        \"samples\": [\n          15687492,\n          15736963,\n          15721730\n        ],\n        \"semantic_type\": \"\",\n        \"description\": \"\"\n      }\n    },\n    {\n      \"column\": \"Surname\",\n      \"properties\": {\n        \"dtype\": \"category\",\n        \"num_unique_values\": 2932,\n        \"samples\": [\n          \"McGuirk\",\n          \"Torkelson\",\n          \"Rapuluchukwu\"\n        ],\n        \"semantic_type\": \"\",\n        \"description\": \"\"\n      }\n    },\n    {\n      \"column\": \"CreditScore\",\n      \"properties\": {\n        \"dtype\": \"number\",\n        \"std\": 96,\n        \"min\": 350,\n        \"max\": 850,\n        \"num_unique_values\": 460,\n        \"samples\": [\n          754,\n          533,\n          744\n        ],\n        \"semantic_type\": \"\",\n        \"description\": \"\"\n      }\n    },\n    {\n      \"column\": \"Geography\",\n      \"properties\": {\n        \"dtype\": \"category\",\n        \"num_unique_values\": 3,\n        \"samples\": [\n          \"France\",\n          \"Spain\",\n          \"Germany\"\n        ],\n        \"semantic_type\": \"\",\n        \"description\": \"\"\n      }\n    },\n    {\n      \"column\": \"Gender\",\n      \"properties\": {\n        \"dtype\": \"category\",\n        \"num_unique_values\": 2,\n        \"samples\": [\n          \"Male\",\n          \"Female\"\n        ],\n        \"semantic_type\": \"\",\n        \"description\": \"\"\n      }\n    },\n    {\n      \"column\": \"Age\",\n      \"properties\": {\n        \"dtype\": \"number\",\n        \"std\": 10,\n        \"min\": 18,\n        \"max\": 92,\n        \"num_unique_values\": 70,\n        \"samples\": [\n          61,\n          42\n        ],\n        \"semantic_type\": \"\",\n        \"description\": \"\"\n      }\n    },\n    {\n      \"column\": \"Tenure\",\n      \"properties\": {\n        \"dtype\": \"number\",\n        \"std\": 2,\n        \"min\": 0,\n        \"max\": 10,\n        \"num_unique_values\": 11,\n        \"samples\": [\n          6,\n          2\n        ],\n        \"semantic_type\": \"\",\n        \"description\": \"\"\n      }\n    },\n    {\n      \"column\": \"Balance\",\n      \"properties\": {\n        \"dtype\": \"number\",\n        \"std\": 62397.405202385955,\n        \"min\": 0.0,\n        \"max\": 250898.09,\n        \"num_unique_values\": 6382,\n        \"samples\": [\n          117707.18,\n          133050.97\n        ],\n        \"semantic_type\": \"\",\n        \"description\": \"\"\n      }\n    },\n    {\n      \"column\": \"NumOfProducts\",\n      \"properties\": {\n        \"dtype\": \"number\",\n        \"std\": 0,\n        \"min\": 1,\n        \"max\": 4,\n        \"num_unique_values\": 4,\n        \"samples\": [\n          3,\n          4\n        ],\n        \"semantic_type\": \"\",\n        \"description\": \"\"\n      }\n    },\n    {\n      \"column\": \"HasCrCard\",\n      \"properties\": {\n        \"dtype\": \"number\",\n        \"std\": 0,\n        \"min\": 0,\n        \"max\": 1,\n        \"num_unique_values\": 2,\n        \"samples\": [\n          0,\n          1\n        ],\n        \"semantic_type\": \"\",\n        \"description\": \"\"\n      }\n    },\n    {\n      \"column\": \"IsActiveMember\",\n      \"properties\": {\n        \"dtype\": \"number\",\n        \"std\": 0,\n        \"min\": 0,\n        \"max\": 1,\n        \"num_unique_values\": 2,\n        \"samples\": [\n          0,\n          1\n        ],\n        \"semantic_type\": \"\",\n        \"description\": \"\"\n      }\n    },\n    {\n      \"column\": \"EstimatedSalary\",\n      \"properties\": {\n        \"dtype\": \"number\",\n        \"std\": 57510.49281769816,\n        \"min\": 11.58,\n        \"max\": 199992.48,\n        \"num_unique_values\": 9999,\n        \"samples\": [\n          100809.99,\n          95273.73\n        ],\n        \"semantic_type\": \"\",\n        \"description\": \"\"\n      }\n    },\n    {\n      \"column\": \"Exited\",\n      \"properties\": {\n        \"dtype\": \"number\",\n        \"std\": 0,\n        \"min\": 0,\n        \"max\": 1,\n        \"num_unique_values\": 2,\n        \"samples\": [\n          0,\n          1\n        ],\n        \"semantic_type\": \"\",\n        \"description\": \"\"\n      }\n    }\n  ]\n}"
            }
          },
          "metadata": {},
          "execution_count": 95
        }
      ]
    },
    {
      "cell_type": "markdown",
      "source": [
        "# **DATA PREPROCESSING **"
      ],
      "metadata": {
        "id": "ku2b9l2oKXXo"
      }
    },
    {
      "cell_type": "code",
      "source": [
        "#checking for null values\n",
        "dataset.info()\n"
      ],
      "metadata": {
        "colab": {
          "base_uri": "https://localhost:8080/"
        },
        "id": "ZaEiRs3KdkQi",
        "outputId": "8c782727-6352-4038-f5b6-da0b616c681d"
      },
      "execution_count": null,
      "outputs": [
        {
          "output_type": "stream",
          "name": "stdout",
          "text": [
            "<class 'pandas.core.frame.DataFrame'>\n",
            "RangeIndex: 10000 entries, 0 to 9999\n",
            "Data columns (total 14 columns):\n",
            " #   Column           Non-Null Count  Dtype  \n",
            "---  ------           --------------  -----  \n",
            " 0   RowNumber        10000 non-null  int64  \n",
            " 1   CustomerId       10000 non-null  int64  \n",
            " 2   Surname          10000 non-null  object \n",
            " 3   CreditScore      10000 non-null  int64  \n",
            " 4   Geography        10000 non-null  object \n",
            " 5   Gender           10000 non-null  object \n",
            " 6   Age              10000 non-null  int64  \n",
            " 7   Tenure           10000 non-null  int64  \n",
            " 8   Balance          10000 non-null  float64\n",
            " 9   NumOfProducts    10000 non-null  int64  \n",
            " 10  HasCrCard        10000 non-null  int64  \n",
            " 11  IsActiveMember   10000 non-null  int64  \n",
            " 12  EstimatedSalary  10000 non-null  float64\n",
            " 13  Exited           10000 non-null  int64  \n",
            "dtypes: float64(2), int64(9), object(3)\n",
            "memory usage: 1.1+ MB\n"
          ]
        }
      ]
    },
    {
      "cell_type": "code",
      "source": [
        "#removing first 3 columns\n",
        "dataset.drop(columns=['RowNumber','CustomerId','Surname'],inplace=True)\n",
        "dataset.head()"
      ],
      "metadata": {
        "colab": {
          "base_uri": "https://localhost:8080/",
          "height": 206
        },
        "id": "7Phvsb9YgIEx",
        "outputId": "c3acf3d8-952d-4bee-d764-f6a6e4662f1b"
      },
      "execution_count": null,
      "outputs": [
        {
          "output_type": "execute_result",
          "data": {
            "text/plain": [
              "   CreditScore Geography  Gender  Age  Tenure    Balance  NumOfProducts  \\\n",
              "0          619    France  Female   42       2       0.00              1   \n",
              "1          608     Spain  Female   41       1   83807.86              1   \n",
              "2          502    France  Female   42       8  159660.80              3   \n",
              "3          699    France  Female   39       1       0.00              2   \n",
              "4          850     Spain  Female   43       2  125510.82              1   \n",
              "\n",
              "   HasCrCard  IsActiveMember  EstimatedSalary  Exited  \n",
              "0          1               1        101348.88       1  \n",
              "1          0               1        112542.58       0  \n",
              "2          1               0        113931.57       1  \n",
              "3          0               0         93826.63       0  \n",
              "4          1               1         79084.10       0  "
            ],
            "text/html": [
              "\n",
              "  <div id=\"df-6553d0f6-a9e2-4322-b628-11817d96fc72\" class=\"colab-df-container\">\n",
              "    <div>\n",
              "<style scoped>\n",
              "    .dataframe tbody tr th:only-of-type {\n",
              "        vertical-align: middle;\n",
              "    }\n",
              "\n",
              "    .dataframe tbody tr th {\n",
              "        vertical-align: top;\n",
              "    }\n",
              "\n",
              "    .dataframe thead th {\n",
              "        text-align: right;\n",
              "    }\n",
              "</style>\n",
              "<table border=\"1\" class=\"dataframe\">\n",
              "  <thead>\n",
              "    <tr style=\"text-align: right;\">\n",
              "      <th></th>\n",
              "      <th>CreditScore</th>\n",
              "      <th>Geography</th>\n",
              "      <th>Gender</th>\n",
              "      <th>Age</th>\n",
              "      <th>Tenure</th>\n",
              "      <th>Balance</th>\n",
              "      <th>NumOfProducts</th>\n",
              "      <th>HasCrCard</th>\n",
              "      <th>IsActiveMember</th>\n",
              "      <th>EstimatedSalary</th>\n",
              "      <th>Exited</th>\n",
              "    </tr>\n",
              "  </thead>\n",
              "  <tbody>\n",
              "    <tr>\n",
              "      <th>0</th>\n",
              "      <td>619</td>\n",
              "      <td>France</td>\n",
              "      <td>Female</td>\n",
              "      <td>42</td>\n",
              "      <td>2</td>\n",
              "      <td>0.00</td>\n",
              "      <td>1</td>\n",
              "      <td>1</td>\n",
              "      <td>1</td>\n",
              "      <td>101348.88</td>\n",
              "      <td>1</td>\n",
              "    </tr>\n",
              "    <tr>\n",
              "      <th>1</th>\n",
              "      <td>608</td>\n",
              "      <td>Spain</td>\n",
              "      <td>Female</td>\n",
              "      <td>41</td>\n",
              "      <td>1</td>\n",
              "      <td>83807.86</td>\n",
              "      <td>1</td>\n",
              "      <td>0</td>\n",
              "      <td>1</td>\n",
              "      <td>112542.58</td>\n",
              "      <td>0</td>\n",
              "    </tr>\n",
              "    <tr>\n",
              "      <th>2</th>\n",
              "      <td>502</td>\n",
              "      <td>France</td>\n",
              "      <td>Female</td>\n",
              "      <td>42</td>\n",
              "      <td>8</td>\n",
              "      <td>159660.80</td>\n",
              "      <td>3</td>\n",
              "      <td>1</td>\n",
              "      <td>0</td>\n",
              "      <td>113931.57</td>\n",
              "      <td>1</td>\n",
              "    </tr>\n",
              "    <tr>\n",
              "      <th>3</th>\n",
              "      <td>699</td>\n",
              "      <td>France</td>\n",
              "      <td>Female</td>\n",
              "      <td>39</td>\n",
              "      <td>1</td>\n",
              "      <td>0.00</td>\n",
              "      <td>2</td>\n",
              "      <td>0</td>\n",
              "      <td>0</td>\n",
              "      <td>93826.63</td>\n",
              "      <td>0</td>\n",
              "    </tr>\n",
              "    <tr>\n",
              "      <th>4</th>\n",
              "      <td>850</td>\n",
              "      <td>Spain</td>\n",
              "      <td>Female</td>\n",
              "      <td>43</td>\n",
              "      <td>2</td>\n",
              "      <td>125510.82</td>\n",
              "      <td>1</td>\n",
              "      <td>1</td>\n",
              "      <td>1</td>\n",
              "      <td>79084.10</td>\n",
              "      <td>0</td>\n",
              "    </tr>\n",
              "  </tbody>\n",
              "</table>\n",
              "</div>\n",
              "    <div class=\"colab-df-buttons\">\n",
              "\n",
              "  <div class=\"colab-df-container\">\n",
              "    <button class=\"colab-df-convert\" onclick=\"convertToInteractive('df-6553d0f6-a9e2-4322-b628-11817d96fc72')\"\n",
              "            title=\"Convert this dataframe to an interactive table.\"\n",
              "            style=\"display:none;\">\n",
              "\n",
              "  <svg xmlns=\"http://www.w3.org/2000/svg\" height=\"24px\" viewBox=\"0 -960 960 960\">\n",
              "    <path d=\"M120-120v-720h720v720H120Zm60-500h600v-160H180v160Zm220 220h160v-160H400v160Zm0 220h160v-160H400v160ZM180-400h160v-160H180v160Zm440 0h160v-160H620v160ZM180-180h160v-160H180v160Zm440 0h160v-160H620v160Z\"/>\n",
              "  </svg>\n",
              "    </button>\n",
              "\n",
              "  <style>\n",
              "    .colab-df-container {\n",
              "      display:flex;\n",
              "      gap: 12px;\n",
              "    }\n",
              "\n",
              "    .colab-df-convert {\n",
              "      background-color: #E8F0FE;\n",
              "      border: none;\n",
              "      border-radius: 50%;\n",
              "      cursor: pointer;\n",
              "      display: none;\n",
              "      fill: #1967D2;\n",
              "      height: 32px;\n",
              "      padding: 0 0 0 0;\n",
              "      width: 32px;\n",
              "    }\n",
              "\n",
              "    .colab-df-convert:hover {\n",
              "      background-color: #E2EBFA;\n",
              "      box-shadow: 0px 1px 2px rgba(60, 64, 67, 0.3), 0px 1px 3px 1px rgba(60, 64, 67, 0.15);\n",
              "      fill: #174EA6;\n",
              "    }\n",
              "\n",
              "    .colab-df-buttons div {\n",
              "      margin-bottom: 4px;\n",
              "    }\n",
              "\n",
              "    [theme=dark] .colab-df-convert {\n",
              "      background-color: #3B4455;\n",
              "      fill: #D2E3FC;\n",
              "    }\n",
              "\n",
              "    [theme=dark] .colab-df-convert:hover {\n",
              "      background-color: #434B5C;\n",
              "      box-shadow: 0px 1px 3px 1px rgba(0, 0, 0, 0.15);\n",
              "      filter: drop-shadow(0px 1px 2px rgba(0, 0, 0, 0.3));\n",
              "      fill: #FFFFFF;\n",
              "    }\n",
              "  </style>\n",
              "\n",
              "    <script>\n",
              "      const buttonEl =\n",
              "        document.querySelector('#df-6553d0f6-a9e2-4322-b628-11817d96fc72 button.colab-df-convert');\n",
              "      buttonEl.style.display =\n",
              "        google.colab.kernel.accessAllowed ? 'block' : 'none';\n",
              "\n",
              "      async function convertToInteractive(key) {\n",
              "        const element = document.querySelector('#df-6553d0f6-a9e2-4322-b628-11817d96fc72');\n",
              "        const dataTable =\n",
              "          await google.colab.kernel.invokeFunction('convertToInteractive',\n",
              "                                                    [key], {});\n",
              "        if (!dataTable) return;\n",
              "\n",
              "        const docLinkHtml = 'Like what you see? Visit the ' +\n",
              "          '<a target=\"_blank\" href=https://colab.research.google.com/notebooks/data_table.ipynb>data table notebook</a>'\n",
              "          + ' to learn more about interactive tables.';\n",
              "        element.innerHTML = '';\n",
              "        dataTable['output_type'] = 'display_data';\n",
              "        await google.colab.output.renderOutput(dataTable, element);\n",
              "        const docLink = document.createElement('div');\n",
              "        docLink.innerHTML = docLinkHtml;\n",
              "        element.appendChild(docLink);\n",
              "      }\n",
              "    </script>\n",
              "  </div>\n",
              "\n",
              "\n",
              "<div id=\"df-7b9743ec-ff44-4ca8-9f51-ddd0bcf747de\">\n",
              "  <button class=\"colab-df-quickchart\" onclick=\"quickchart('df-7b9743ec-ff44-4ca8-9f51-ddd0bcf747de')\"\n",
              "            title=\"Suggest charts\"\n",
              "            style=\"display:none;\">\n",
              "\n",
              "<svg xmlns=\"http://www.w3.org/2000/svg\" height=\"24px\"viewBox=\"0 0 24 24\"\n",
              "     width=\"24px\">\n",
              "    <g>\n",
              "        <path d=\"M19 3H5c-1.1 0-2 .9-2 2v14c0 1.1.9 2 2 2h14c1.1 0 2-.9 2-2V5c0-1.1-.9-2-2-2zM9 17H7v-7h2v7zm4 0h-2V7h2v10zm4 0h-2v-4h2v4z\"/>\n",
              "    </g>\n",
              "</svg>\n",
              "  </button>\n",
              "\n",
              "<style>\n",
              "  .colab-df-quickchart {\n",
              "      --bg-color: #E8F0FE;\n",
              "      --fill-color: #1967D2;\n",
              "      --hover-bg-color: #E2EBFA;\n",
              "      --hover-fill-color: #174EA6;\n",
              "      --disabled-fill-color: #AAA;\n",
              "      --disabled-bg-color: #DDD;\n",
              "  }\n",
              "\n",
              "  [theme=dark] .colab-df-quickchart {\n",
              "      --bg-color: #3B4455;\n",
              "      --fill-color: #D2E3FC;\n",
              "      --hover-bg-color: #434B5C;\n",
              "      --hover-fill-color: #FFFFFF;\n",
              "      --disabled-bg-color: #3B4455;\n",
              "      --disabled-fill-color: #666;\n",
              "  }\n",
              "\n",
              "  .colab-df-quickchart {\n",
              "    background-color: var(--bg-color);\n",
              "    border: none;\n",
              "    border-radius: 50%;\n",
              "    cursor: pointer;\n",
              "    display: none;\n",
              "    fill: var(--fill-color);\n",
              "    height: 32px;\n",
              "    padding: 0;\n",
              "    width: 32px;\n",
              "  }\n",
              "\n",
              "  .colab-df-quickchart:hover {\n",
              "    background-color: var(--hover-bg-color);\n",
              "    box-shadow: 0 1px 2px rgba(60, 64, 67, 0.3), 0 1px 3px 1px rgba(60, 64, 67, 0.15);\n",
              "    fill: var(--button-hover-fill-color);\n",
              "  }\n",
              "\n",
              "  .colab-df-quickchart-complete:disabled,\n",
              "  .colab-df-quickchart-complete:disabled:hover {\n",
              "    background-color: var(--disabled-bg-color);\n",
              "    fill: var(--disabled-fill-color);\n",
              "    box-shadow: none;\n",
              "  }\n",
              "\n",
              "  .colab-df-spinner {\n",
              "    border: 2px solid var(--fill-color);\n",
              "    border-color: transparent;\n",
              "    border-bottom-color: var(--fill-color);\n",
              "    animation:\n",
              "      spin 1s steps(1) infinite;\n",
              "  }\n",
              "\n",
              "  @keyframes spin {\n",
              "    0% {\n",
              "      border-color: transparent;\n",
              "      border-bottom-color: var(--fill-color);\n",
              "      border-left-color: var(--fill-color);\n",
              "    }\n",
              "    20% {\n",
              "      border-color: transparent;\n",
              "      border-left-color: var(--fill-color);\n",
              "      border-top-color: var(--fill-color);\n",
              "    }\n",
              "    30% {\n",
              "      border-color: transparent;\n",
              "      border-left-color: var(--fill-color);\n",
              "      border-top-color: var(--fill-color);\n",
              "      border-right-color: var(--fill-color);\n",
              "    }\n",
              "    40% {\n",
              "      border-color: transparent;\n",
              "      border-right-color: var(--fill-color);\n",
              "      border-top-color: var(--fill-color);\n",
              "    }\n",
              "    60% {\n",
              "      border-color: transparent;\n",
              "      border-right-color: var(--fill-color);\n",
              "    }\n",
              "    80% {\n",
              "      border-color: transparent;\n",
              "      border-right-color: var(--fill-color);\n",
              "      border-bottom-color: var(--fill-color);\n",
              "    }\n",
              "    90% {\n",
              "      border-color: transparent;\n",
              "      border-bottom-color: var(--fill-color);\n",
              "    }\n",
              "  }\n",
              "</style>\n",
              "\n",
              "  <script>\n",
              "    async function quickchart(key) {\n",
              "      const quickchartButtonEl =\n",
              "        document.querySelector('#' + key + ' button');\n",
              "      quickchartButtonEl.disabled = true;  // To prevent multiple clicks.\n",
              "      quickchartButtonEl.classList.add('colab-df-spinner');\n",
              "      try {\n",
              "        const charts = await google.colab.kernel.invokeFunction(\n",
              "            'suggestCharts', [key], {});\n",
              "      } catch (error) {\n",
              "        console.error('Error during call to suggestCharts:', error);\n",
              "      }\n",
              "      quickchartButtonEl.classList.remove('colab-df-spinner');\n",
              "      quickchartButtonEl.classList.add('colab-df-quickchart-complete');\n",
              "    }\n",
              "    (() => {\n",
              "      let quickchartButtonEl =\n",
              "        document.querySelector('#df-7b9743ec-ff44-4ca8-9f51-ddd0bcf747de button');\n",
              "      quickchartButtonEl.style.display =\n",
              "        google.colab.kernel.accessAllowed ? 'block' : 'none';\n",
              "    })();\n",
              "  </script>\n",
              "</div>\n",
              "\n",
              "    </div>\n",
              "  </div>\n"
            ],
            "application/vnd.google.colaboratory.intrinsic+json": {
              "type": "dataframe",
              "variable_name": "dataset",
              "summary": "{\n  \"name\": \"dataset\",\n  \"rows\": 10000,\n  \"fields\": [\n    {\n      \"column\": \"CreditScore\",\n      \"properties\": {\n        \"dtype\": \"number\",\n        \"std\": 96,\n        \"min\": 350,\n        \"max\": 850,\n        \"num_unique_values\": 460,\n        \"samples\": [\n          754,\n          533,\n          744\n        ],\n        \"semantic_type\": \"\",\n        \"description\": \"\"\n      }\n    },\n    {\n      \"column\": \"Geography\",\n      \"properties\": {\n        \"dtype\": \"category\",\n        \"num_unique_values\": 3,\n        \"samples\": [\n          \"France\",\n          \"Spain\",\n          \"Germany\"\n        ],\n        \"semantic_type\": \"\",\n        \"description\": \"\"\n      }\n    },\n    {\n      \"column\": \"Gender\",\n      \"properties\": {\n        \"dtype\": \"category\",\n        \"num_unique_values\": 2,\n        \"samples\": [\n          \"Male\",\n          \"Female\"\n        ],\n        \"semantic_type\": \"\",\n        \"description\": \"\"\n      }\n    },\n    {\n      \"column\": \"Age\",\n      \"properties\": {\n        \"dtype\": \"number\",\n        \"std\": 10,\n        \"min\": 18,\n        \"max\": 92,\n        \"num_unique_values\": 70,\n        \"samples\": [\n          61,\n          42\n        ],\n        \"semantic_type\": \"\",\n        \"description\": \"\"\n      }\n    },\n    {\n      \"column\": \"Tenure\",\n      \"properties\": {\n        \"dtype\": \"number\",\n        \"std\": 2,\n        \"min\": 0,\n        \"max\": 10,\n        \"num_unique_values\": 11,\n        \"samples\": [\n          6,\n          2\n        ],\n        \"semantic_type\": \"\",\n        \"description\": \"\"\n      }\n    },\n    {\n      \"column\": \"Balance\",\n      \"properties\": {\n        \"dtype\": \"number\",\n        \"std\": 62397.405202385955,\n        \"min\": 0.0,\n        \"max\": 250898.09,\n        \"num_unique_values\": 6382,\n        \"samples\": [\n          117707.18,\n          133050.97\n        ],\n        \"semantic_type\": \"\",\n        \"description\": \"\"\n      }\n    },\n    {\n      \"column\": \"NumOfProducts\",\n      \"properties\": {\n        \"dtype\": \"number\",\n        \"std\": 0,\n        \"min\": 1,\n        \"max\": 4,\n        \"num_unique_values\": 4,\n        \"samples\": [\n          3,\n          4\n        ],\n        \"semantic_type\": \"\",\n        \"description\": \"\"\n      }\n    },\n    {\n      \"column\": \"HasCrCard\",\n      \"properties\": {\n        \"dtype\": \"number\",\n        \"std\": 0,\n        \"min\": 0,\n        \"max\": 1,\n        \"num_unique_values\": 2,\n        \"samples\": [\n          0,\n          1\n        ],\n        \"semantic_type\": \"\",\n        \"description\": \"\"\n      }\n    },\n    {\n      \"column\": \"IsActiveMember\",\n      \"properties\": {\n        \"dtype\": \"number\",\n        \"std\": 0,\n        \"min\": 0,\n        \"max\": 1,\n        \"num_unique_values\": 2,\n        \"samples\": [\n          0,\n          1\n        ],\n        \"semantic_type\": \"\",\n        \"description\": \"\"\n      }\n    },\n    {\n      \"column\": \"EstimatedSalary\",\n      \"properties\": {\n        \"dtype\": \"number\",\n        \"std\": 57510.49281769816,\n        \"min\": 11.58,\n        \"max\": 199992.48,\n        \"num_unique_values\": 9999,\n        \"samples\": [\n          100809.99,\n          95273.73\n        ],\n        \"semantic_type\": \"\",\n        \"description\": \"\"\n      }\n    },\n    {\n      \"column\": \"Exited\",\n      \"properties\": {\n        \"dtype\": \"number\",\n        \"std\": 0,\n        \"min\": 0,\n        \"max\": 1,\n        \"num_unique_values\": 2,\n        \"samples\": [\n          0,\n          1\n        ],\n        \"semantic_type\": \"\",\n        \"description\": \"\"\n      }\n    }\n  ]\n}"
            }
          },
          "metadata": {},
          "execution_count": 97
        }
      ]
    },
    {
      "cell_type": "code",
      "source": [
        "#class distribution of 1 and 0\n",
        "class_distribution=dataset['Exited'].value_counts()\n",
        "class_distribution"
      ],
      "metadata": {
        "colab": {
          "base_uri": "https://localhost:8080/"
        },
        "id": "DZSzaSecK_dW",
        "outputId": "2af847b2-566b-40cb-b75b-3eda26b43850"
      },
      "execution_count": null,
      "outputs": [
        {
          "output_type": "execute_result",
          "data": {
            "text/plain": [
              "Exited\n",
              "0    7963\n",
              "1    2037\n",
              "Name: count, dtype: int64"
            ]
          },
          "metadata": {},
          "execution_count": 98
        }
      ]
    },
    {
      "cell_type": "code",
      "source": [
        "#since uneven class distribution , need resampling for the one which is less to make high\n",
        "class0=dataset[dataset['Exited']==0]\n",
        "class1=dataset[dataset['Exited']==1]\n",
        "unsample_class1=resample(class1, n_samples=len(class0),replace=True,random_state=2 )"
      ],
      "metadata": {
        "id": "X5M1kmHtLuZR"
      },
      "execution_count": null,
      "outputs": []
    },
    {
      "cell_type": "code",
      "source": [
        "#combining class0 and class1\n",
        "dataset=pd.concat([class0,unsample_class1])\n",
        "dataset.shape"
      ],
      "metadata": {
        "colab": {
          "base_uri": "https://localhost:8080/"
        },
        "id": "zWLK1J-YMeHp",
        "outputId": "d56b8459-e159-41b7-e29e-891d12d2ff15"
      },
      "execution_count": null,
      "outputs": [
        {
          "output_type": "execute_result",
          "data": {
            "text/plain": [
              "(15926, 11)"
            ]
          },
          "metadata": {},
          "execution_count": 100
        }
      ]
    },
    {
      "cell_type": "code",
      "source": [
        "data=dataset.iloc[:,:-1].values\n",
        "target=dataset.iloc[:,-1].values\n"
      ],
      "metadata": {
        "id": "kIOAXgIdM2oE"
      },
      "execution_count": null,
      "outputs": []
    },
    {
      "cell_type": "code",
      "source": [
        "data"
      ],
      "metadata": {
        "colab": {
          "base_uri": "https://localhost:8080/"
        },
        "id": "xBdV-5jPNJwv",
        "outputId": "a16b7322-89ae-437b-a268-440e5ac094fa"
      },
      "execution_count": null,
      "outputs": [
        {
          "output_type": "execute_result",
          "data": {
            "text/plain": [
              "array([[608, 'Spain', 'Female', ..., 0, 1, 112542.58],\n",
              "       [699, 'France', 'Female', ..., 0, 0, 93826.63],\n",
              "       [850, 'Spain', 'Female', ..., 1, 1, 79084.1],\n",
              "       ...,\n",
              "       [803, 'Germany', 'Female', ..., 0, 0, 22457.25],\n",
              "       [746, 'France', 'Male', ..., 1, 1, 80344.96],\n",
              "       [529, 'France', 'Male', ..., 1, 1, 154002.02]], dtype=object)"
            ]
          },
          "metadata": {},
          "execution_count": 102
        }
      ]
    },
    {
      "cell_type": "code",
      "source": [
        "target"
      ],
      "metadata": {
        "colab": {
          "base_uri": "https://localhost:8080/"
        },
        "id": "jIr-O3fXNL7U",
        "outputId": "4b04b1b1-6445-4fa6-df68-67e0da7568cc"
      },
      "execution_count": null,
      "outputs": [
        {
          "output_type": "execute_result",
          "data": {
            "text/plain": [
              "array([0, 0, 0, ..., 1, 1, 1])"
            ]
          },
          "metadata": {},
          "execution_count": 103
        }
      ]
    },
    {
      "cell_type": "code",
      "source": [
        "#label encoding -> gender column\n",
        "from sklearn.preprocessing import LabelEncoder\n",
        "le=LabelEncoder()\n",
        "data[:,2]=np.array(le.fit_transform(data[:,2]))\n",
        "data[0]"
      ],
      "metadata": {
        "colab": {
          "base_uri": "https://localhost:8080/"
        },
        "id": "k3wSU6BJPOBa",
        "outputId": "bd181d24-5fa7-480a-9727-581663eefe25"
      },
      "execution_count": null,
      "outputs": [
        {
          "output_type": "execute_result",
          "data": {
            "text/plain": [
              "array([608, 'Spain', 0, 41, 1, 83807.86, 1, 0, 1, 112542.58], dtype=object)"
            ]
          },
          "metadata": {},
          "execution_count": 104
        }
      ]
    },
    {
      "cell_type": "code",
      "source": [
        "#one hot encoding ->geography\n",
        "from sklearn.compose import ColumnTransformer\n",
        "from sklearn.preprocessing import OneHotEncoder\n",
        "ct=ColumnTransformer(transformers=[('encoder',OneHotEncoder(),[1])],remainder=\"passthrough\")\n",
        "data=np.array(ct.fit_transform(data))\n",
        "data[0]"
      ],
      "metadata": {
        "colab": {
          "base_uri": "https://localhost:8080/"
        },
        "id": "81zdLxt4NSRV",
        "outputId": "51ac5d7b-7155-44b3-9693-16e6d3b98544"
      },
      "execution_count": null,
      "outputs": [
        {
          "output_type": "execute_result",
          "data": {
            "text/plain": [
              "array([0.0, 0.0, 1.0, 608, 0, 41, 1, 83807.86, 1, 0, 1, 112542.58],\n",
              "      dtype=object)"
            ]
          },
          "metadata": {},
          "execution_count": 105
        }
      ]
    },
    {
      "cell_type": "markdown",
      "source": [
        "# **EDA**"
      ],
      "metadata": {
        "id": "DYqG55WkQWle"
      }
    },
    {
      "cell_type": "code",
      "source": [
        "dataset.info()"
      ],
      "metadata": {
        "colab": {
          "base_uri": "https://localhost:8080/"
        },
        "id": "seai28rtN-d2",
        "outputId": "8403216c-f1ca-49ad-bac5-95cd836d16ea"
      },
      "execution_count": null,
      "outputs": [
        {
          "output_type": "stream",
          "name": "stdout",
          "text": [
            "<class 'pandas.core.frame.DataFrame'>\n",
            "Index: 15926 entries, 1 to 8674\n",
            "Data columns (total 11 columns):\n",
            " #   Column           Non-Null Count  Dtype  \n",
            "---  ------           --------------  -----  \n",
            " 0   CreditScore      15926 non-null  int64  \n",
            " 1   Geography        15926 non-null  object \n",
            " 2   Gender           15926 non-null  object \n",
            " 3   Age              15926 non-null  int64  \n",
            " 4   Tenure           15926 non-null  int64  \n",
            " 5   Balance          15926 non-null  float64\n",
            " 6   NumOfProducts    15926 non-null  int64  \n",
            " 7   HasCrCard        15926 non-null  int64  \n",
            " 8   IsActiveMember   15926 non-null  int64  \n",
            " 9   EstimatedSalary  15926 non-null  float64\n",
            " 10  Exited           15926 non-null  int64  \n",
            "dtypes: float64(2), int64(7), object(2)\n",
            "memory usage: 1.5+ MB\n"
          ]
        }
      ]
    },
    {
      "cell_type": "code",
      "source": [
        "plt.pie(dataset['Exited'].value_counts().values,labels=['0','1'],autopct='%0.2f')\n",
        "plt.show()"
      ],
      "metadata": {
        "colab": {
          "base_uri": "https://localhost:8080/",
          "height": 406
        },
        "id": "kLSgowGjQg1m",
        "outputId": "153ffaa5-e261-44c2-f081-49755a990d6c"
      },
      "execution_count": null,
      "outputs": [
        {
          "output_type": "display_data",
          "data": {
            "text/plain": [
              "<Figure size 640x480 with 1 Axes>"
            ],
            "image/png": "[encoded data removed]"
          },
          "metadata": {}
        }
      ]
    },
    {
      "cell_type": "markdown",
      "source": [
        "# **MODEL BUILD**"
      ],
      "metadata": {
        "id": "8v3aZ3N_S6hH"
      }
    },
    {
      "cell_type": "code",
      "source": [
        "from sklearn.model_selection import train_test_split\n",
        "data_train,data_test,target_train,target_test=train_test_split(data,target,test_size=0.2,random_state=2)"
      ],
      "metadata": {
        "id": "uaqXW7D_S9bT"
      },
      "execution_count": null,
      "outputs": []
    },
    {
      "cell_type": "code",
      "source": [
        "#Feature Scaling\n",
        "from sklearn.preprocessing import StandardScaler\n",
        "sc=StandardScaler()\n",
        "data_train=sc.fit_transform(data_train)\n",
        "data_test=sc.transform(data_test)"
      ],
      "metadata": {
        "id": "N3ZKIyt_ZOxS"
      },
      "execution_count": null,
      "outputs": []
    },
    {
      "cell_type": "code",
      "source": [
        "from sklearn.linear_model import LogisticRegression\n",
        "from sklearn.metrics import accuracy_score,confusion_matrix,precision_score\n",
        "lr=LogisticRegression()\n",
        "lr.fit(data_train,target_train)\n",
        "target_pred=lr.predict(data_test)\n",
        "print(\"Accuracy Score-\",accuracy_score(target_test,target_pred))\n",
        "print(\"Matrix:\",confusion_matrix(target_test,target_pred))\n",
        "print(\"Precision_score-\",precision_score(target_test,target_pred))"
      ],
      "metadata": {
        "colab": {
          "base_uri": "https://localhost:8080/"
        },
        "id": "QT3Ngv4NTWCF",
        "outputId": "30b773ea-08e9-42e4-e85e-42f8077806b4"
      },
      "execution_count": null,
      "outputs": [
        {
          "output_type": "stream",
          "name": "stdout",
          "text": [
            "Accuracy Score- 0.7200251098556183\n",
            "Matrix: [[1173  380]\n",
            " [ 512 1121]]\n",
            "Precision_score- 0.7468354430379747\n"
          ]
        }
      ]
    },
    {
      "cell_type": "code",
      "source": [
        "from sklearn.ensemble import RandomForestClassifier\n",
        "rf=RandomForestClassifier()\n",
        "rf.fit(data_train,target_train)\n",
        "target_pred=rf.predict(data_test)\n",
        "print(\"Accuracy Score-\",accuracy_score(target_test,target_pred))\n",
        "print(\"Matrix:\",confusion_matrix(target_test,target_pred))\n",
        "print(\"Precision_score-\",precision_score(target_test,target_pred))"
      ],
      "metadata": {
        "colab": {
          "base_uri": "https://localhost:8080/"
        },
        "id": "1sTc-JCkUOVS",
        "outputId": "a6927c58-e121-4832-9fdf-b3cd38ba7a22"
      },
      "execution_count": null,
      "outputs": [
        {
          "output_type": "stream",
          "name": "stdout",
          "text": [
            "Accuracy Score- 0.9544883866917765\n",
            "Matrix: [[1435  118]\n",
            " [  27 1606]]\n",
            "Precision_score- 0.931554524361949\n"
          ]
        }
      ]
    },
    {
      "cell_type": "code",
      "source": [
        "from sklearn.tree import DecisionTreeClassifier\n",
        "dt=DecisionTreeClassifier()\n",
        "dt.fit(data_train,target_train)\n",
        "target_pred=dt.predict(data_test)\n",
        "print(\"Accuracy Score-\",accuracy_score(target_test,target_pred))\n",
        "print(\"Matrix:\",confusion_matrix(target_test,target_pred))\n",
        "print(\"Precision_score-\",precision_score(target_test,target_pred))"
      ],
      "metadata": {
        "colab": {
          "base_uri": "https://localhost:8080/"
        },
        "id": "4eqNbT3_aXZR",
        "outputId": "a2e8e362-e086-4eb6-b83b-c7a5f6169353"
      },
      "execution_count": null,
      "outputs": [
        {
          "output_type": "stream",
          "name": "stdout",
          "text": [
            "Accuracy Score- 0.9293785310734464\n",
            "Matrix: [[1352  201]\n",
            " [  24 1609]]\n",
            "Precision_score- 0.888950276243094\n"
          ]
        }
      ]
    },
    {
      "cell_type": "code",
      "source": [
        "from sklearn.ensemble import GradientBoostingClassifier\n",
        "gb=GradientBoostingClassifier()\n",
        "gb.fit(data_train,target_train)\n",
        "target_pred=gb.predict(data_test)\n",
        "print(\"Accuracy Score-\",accuracy_score(target_test,target_pred))\n",
        "print(\"Matrix:\",confusion_matrix(target_test,target_pred))\n",
        "print(\"Precision_score-\",precision_score(target_test,target_pred))"
      ],
      "metadata": {
        "colab": {
          "base_uri": "https://localhost:8080/"
        },
        "id": "pBb-g4ZFVJ9O",
        "outputId": "93197410-e260-429a-d643-9651da9f2036"
      },
      "execution_count": null,
      "outputs": [
        {
          "output_type": "stream",
          "name": "stdout",
          "text": [
            "Accuracy Score- 0.8069679849340866\n",
            "Matrix: [[1306  247]\n",
            " [ 368 1265]]\n",
            "Precision_score- 0.8366402116402116\n"
          ]
        }
      ]
    },
    {
      "cell_type": "code",
      "source": [
        "from sklearn.svm import SVC\n",
        "svc=SVC()\n",
        "svc.fit(data_train,target_train)\n",
        "target_pred=svc.predict(data_test)\n",
        "print(\"Accuracy Score-\",accuracy_score(target_test,target_pred))\n",
        "print(\"Matrix:\",confusion_matrix(target_test,target_pred))\n",
        "print(\"Precision_score-\",precision_score(target_test,target_pred))"
      ],
      "metadata": {
        "colab": {
          "base_uri": "https://localhost:8080/"
        },
        "id": "Zp40QmXKatt7",
        "outputId": "65696c65-02ed-4057-cbf8-036f2c34c639"
      },
      "execution_count": null,
      "outputs": [
        {
          "output_type": "stream",
          "name": "stdout",
          "text": [
            "Accuracy Score- 0.8047708725674827\n",
            "Matrix: [[1269  284]\n",
            " [ 338 1295]]\n",
            "Precision_score- 0.8201393286890437\n"
          ]
        }
      ]
    },
    {
      "cell_type": "code",
      "source": [
        "#using ANN Neural Network\n",
        "ann=tf.keras.models.Sequential()\n",
        "ann.add(tf.keras.layers.Dense(units=32,activation='relu'))\n",
        "ann.add(tf.keras.layers.Dropout(0.6))\n",
        "ann.add(tf.keras.layers.BatchNormalization())\n",
        "\n",
        "ann.add(tf.keras.layers.Dense(units=64,activation='sigmoid'))\n",
        "ann.add(tf.keras.layers.Dropout(0.6))\n",
        "ann.add(tf.keras.layers.BatchNormalization())\n",
        "\n",
        "ann.add(tf.keras.layers.Dense(units=128,activation='sigmoid'))\n",
        "ann.add(tf.keras.layers.Dropout(0.6))\n",
        "ann.add(tf.keras.layers.BatchNormalization())\n",
        "\n",
        "ann.add(tf.keras.layers.Dense(units=1,activation='sigmoid'))\n",
        "custom_optimizer=tf.keras.optimizers.Adam(learning_rate=0.001)\n",
        "ann.compile(optimizer=custom_optimizer,loss='binary_crossentropy',metrics=['accuracy'])\n",
        "early_stopping=tf.keras.callbacks.EarlyStopping(monitor='val_loss',patience=10,restore_best_weights=True)\n",
        "history=ann.fit(data_train,target_train,batch_size=32,epochs=60,validation_data=(data_test,target_test),callbacks=[early_stopping])"
      ],
      "metadata": {
        "colab": {
          "base_uri": "https://localhost:8080/"
        },
        "id": "KRs-XiHPWj1t",
        "outputId": "7df5de08-0d0d-4d21-eab0-df51e8f8b5eb"
      },
      "execution_count": null,
      "outputs": [
        {
          "output_type": "stream",
          "name": "stdout",
          "text": [
            "Epoch 1/60\n",
            "399/399 [==============================] - 9s 12ms/step - loss: 0.7695 - accuracy: 0.5485 - val_loss: 0.5745 - val_accuracy: 0.7348\n",
            "Epoch 2/60\n",
            "399/399 [==============================] - 3s 7ms/step - loss: 0.6453 - accuracy: 0.6355 - val_loss: 0.5438 - val_accuracy: 0.7420\n",
            "Epoch 3/60\n",
            "399/399 [==============================] - 1s 3ms/step - loss: 0.6097 - accuracy: 0.6813 - val_loss: 0.5333 - val_accuracy: 0.7552\n",
            "Epoch 4/60\n",
            "399/399 [==============================] - 1s 3ms/step - loss: 0.5906 - accuracy: 0.7030 - val_loss: 0.5211 - val_accuracy: 0.7608\n",
            "Epoch 5/60\n",
            "399/399 [==============================] - 1s 3ms/step - loss: 0.5811 - accuracy: 0.7078 - val_loss: 0.5128 - val_accuracy: 0.7630\n",
            "Epoch 6/60\n",
            "399/399 [==============================] - 1s 4ms/step - loss: 0.5747 - accuracy: 0.7144 - val_loss: 0.5084 - val_accuracy: 0.7668\n",
            "Epoch 7/60\n",
            "399/399 [==============================] - 1s 3ms/step - loss: 0.5728 - accuracy: 0.7180 - val_loss: 0.5112 - val_accuracy: 0.7709\n",
            "Epoch 8/60\n",
            "399/399 [==============================] - 2s 5ms/step - loss: 0.5643 - accuracy: 0.7294 - val_loss: 0.5057 - val_accuracy: 0.7687\n",
            "Epoch 9/60\n",
            "399/399 [==============================] - 2s 5ms/step - loss: 0.5580 - accuracy: 0.7318 - val_loss: 0.5021 - val_accuracy: 0.7715\n",
            "Epoch 10/60\n",
            "399/399 [==============================] - 1s 3ms/step - loss: 0.5581 - accuracy: 0.7304 - val_loss: 0.5007 - val_accuracy: 0.7731\n",
            "Epoch 11/60\n",
            "399/399 [==============================] - 1s 3ms/step - loss: 0.5567 - accuracy: 0.7304 - val_loss: 0.5007 - val_accuracy: 0.7775\n",
            "Epoch 12/60\n",
            "399/399 [==============================] - 1s 3ms/step - loss: 0.5490 - accuracy: 0.7367 - val_loss: 0.4984 - val_accuracy: 0.7775\n",
            "Epoch 13/60\n",
            "399/399 [==============================] - 1s 3ms/step - loss: 0.5467 - accuracy: 0.7392 - val_loss: 0.4949 - val_accuracy: 0.7765\n",
            "Epoch 14/60\n",
            "399/399 [==============================] - 1s 3ms/step - loss: 0.5496 - accuracy: 0.7333 - val_loss: 0.4909 - val_accuracy: 0.7797\n",
            "Epoch 15/60\n",
            "399/399 [==============================] - 1s 3ms/step - loss: 0.5440 - accuracy: 0.7389 - val_loss: 0.4895 - val_accuracy: 0.7746\n",
            "Epoch 16/60\n",
            "399/399 [==============================] - 1s 3ms/step - loss: 0.5478 - accuracy: 0.7361 - val_loss: 0.4868 - val_accuracy: 0.7784\n",
            "Epoch 17/60\n",
            "399/399 [==============================] - 2s 5ms/step - loss: 0.5445 - accuracy: 0.7352 - val_loss: 0.4792 - val_accuracy: 0.7793\n",
            "Epoch 18/60\n",
            "399/399 [==============================] - 2s 6ms/step - loss: 0.5375 - accuracy: 0.7393 - val_loss: 0.4781 - val_accuracy: 0.7778\n",
            "Epoch 19/60\n",
            "399/399 [==============================] - 1s 3ms/step - loss: 0.5375 - accuracy: 0.7366 - val_loss: 0.4733 - val_accuracy: 0.7793\n",
            "Epoch 20/60\n",
            "399/399 [==============================] - 1s 3ms/step - loss: 0.5374 - accuracy: 0.7380 - val_loss: 0.4733 - val_accuracy: 0.7828\n",
            "Epoch 21/60\n",
            "399/399 [==============================] - 1s 3ms/step - loss: 0.5336 - accuracy: 0.7397 - val_loss: 0.4739 - val_accuracy: 0.7825\n",
            "Epoch 22/60\n",
            "399/399 [==============================] - 1s 3ms/step - loss: 0.5316 - accuracy: 0.7400 - val_loss: 0.4725 - val_accuracy: 0.7778\n",
            "Epoch 23/60\n",
            "399/399 [==============================] - 1s 3ms/step - loss: 0.5236 - accuracy: 0.7428 - val_loss: 0.4635 - val_accuracy: 0.7841\n",
            "Epoch 24/60\n",
            "399/399 [==============================] - 1s 3ms/step - loss: 0.5314 - accuracy: 0.7393 - val_loss: 0.4659 - val_accuracy: 0.7850\n",
            "Epoch 25/60\n",
            "399/399 [==============================] - 1s 4ms/step - loss: 0.5256 - accuracy: 0.7442 - val_loss: 0.4582 - val_accuracy: 0.7878\n",
            "Epoch 26/60\n",
            "399/399 [==============================] - 2s 5ms/step - loss: 0.5249 - accuracy: 0.7430 - val_loss: 0.4614 - val_accuracy: 0.7822\n",
            "Epoch 27/60\n",
            "399/399 [==============================] - 2s 5ms/step - loss: 0.5196 - accuracy: 0.7445 - val_loss: 0.4567 - val_accuracy: 0.7891\n",
            "Epoch 28/60\n",
            "399/399 [==============================] - 1s 3ms/step - loss: 0.5257 - accuracy: 0.7411 - val_loss: 0.4609 - val_accuracy: 0.7834\n",
            "Epoch 29/60\n",
            "399/399 [==============================] - 1s 3ms/step - loss: 0.5225 - accuracy: 0.7430 - val_loss: 0.4575 - val_accuracy: 0.7913\n",
            "Epoch 30/60\n",
            "399/399 [==============================] - 1s 3ms/step - loss: 0.5224 - accuracy: 0.7438 - val_loss: 0.4633 - val_accuracy: 0.7894\n",
            "Epoch 31/60\n",
            "399/399 [==============================] - 1s 3ms/step - loss: 0.5195 - accuracy: 0.7463 - val_loss: 0.4630 - val_accuracy: 0.7787\n",
            "Epoch 32/60\n",
            "399/399 [==============================] - 1s 3ms/step - loss: 0.5158 - accuracy: 0.7487 - val_loss: 0.4572 - val_accuracy: 0.7881\n",
            "Epoch 33/60\n",
            "399/399 [==============================] - 1s 3ms/step - loss: 0.5169 - accuracy: 0.7432 - val_loss: 0.4567 - val_accuracy: 0.7897\n",
            "Epoch 34/60\n",
            "399/399 [==============================] - 1s 3ms/step - loss: 0.5167 - accuracy: 0.7484 - val_loss: 0.4554 - val_accuracy: 0.7900\n",
            "Epoch 35/60\n",
            "399/399 [==============================] - 2s 5ms/step - loss: 0.5176 - accuracy: 0.7461 - val_loss: 0.4610 - val_accuracy: 0.7850\n",
            "Epoch 36/60\n",
            "399/399 [==============================] - 2s 6ms/step - loss: 0.5198 - accuracy: 0.7454 - val_loss: 0.4566 - val_accuracy: 0.7906\n",
            "Epoch 37/60\n",
            "399/399 [==============================] - 1s 3ms/step - loss: 0.5165 - accuracy: 0.7508 - val_loss: 0.4575 - val_accuracy: 0.7884\n",
            "Epoch 38/60\n",
            "399/399 [==============================] - 1s 3ms/step - loss: 0.5162 - accuracy: 0.7482 - val_loss: 0.4608 - val_accuracy: 0.7897\n",
            "Epoch 39/60\n",
            "399/399 [==============================] - 2s 4ms/step - loss: 0.5189 - accuracy: 0.7443 - val_loss: 0.4544 - val_accuracy: 0.7925\n",
            "Epoch 40/60\n",
            "399/399 [==============================] - 1s 3ms/step - loss: 0.5121 - accuracy: 0.7491 - val_loss: 0.4522 - val_accuracy: 0.7944\n",
            "Epoch 41/60\n",
            "399/399 [==============================] - 1s 3ms/step - loss: 0.5135 - accuracy: 0.7494 - val_loss: 0.4554 - val_accuracy: 0.7910\n",
            "Epoch 42/60\n",
            "399/399 [==============================] - 1s 3ms/step - loss: 0.5117 - accuracy: 0.7518 - val_loss: 0.4557 - val_accuracy: 0.7869\n",
            "Epoch 43/60\n",
            "399/399 [==============================] - 1s 3ms/step - loss: 0.5087 - accuracy: 0.7507 - val_loss: 0.4630 - val_accuracy: 0.7878\n",
            "Epoch 44/60\n",
            "399/399 [==============================] - 2s 4ms/step - loss: 0.5122 - accuracy: 0.7452 - val_loss: 0.4609 - val_accuracy: 0.7906\n",
            "Epoch 45/60\n",
            "399/399 [==============================] - 2s 6ms/step - loss: 0.5173 - accuracy: 0.7483 - val_loss: 0.4649 - val_accuracy: 0.7702\n",
            "Epoch 46/60\n",
            "399/399 [==============================] - 1s 4ms/step - loss: 0.5090 - accuracy: 0.7480 - val_loss: 0.4594 - val_accuracy: 0.7913\n",
            "Epoch 47/60\n",
            "399/399 [==============================] - 1s 3ms/step - loss: 0.5075 - accuracy: 0.7509 - val_loss: 0.4589 - val_accuracy: 0.7910\n",
            "Epoch 48/60\n",
            "399/399 [==============================] - 1s 3ms/step - loss: 0.5147 - accuracy: 0.7415 - val_loss: 0.4575 - val_accuracy: 0.7897\n",
            "Epoch 49/60\n",
            "399/399 [==============================] - 1s 3ms/step - loss: 0.5025 - accuracy: 0.7522 - val_loss: 0.4523 - val_accuracy: 0.7913\n",
            "Epoch 50/60\n",
            "399/399 [==============================] - 1s 3ms/step - loss: 0.5107 - accuracy: 0.7475 - val_loss: 0.4539 - val_accuracy: 0.7916\n"
          ]
        }
      ]
    },
    {
      "cell_type": "markdown",
      "source": [],
      "metadata": {
        "id": "G-04MCHpaSSf"
      }
    },
    {
      "cell_type": "markdown",
      "source": [
        "### Till now RandomForestClassifier has given the best Result with accuracy of 85% and precision of 80%"
      ],
      "metadata": {
        "id": "NwTdmeKTbISQ"
      }
    },
    {
      "cell_type": "code",
      "source": [
        "import pickle\n",
        "pickle.dump(rf,open('model.pkl','wb'))\n",
        "pickle.dump(sc,open('scaler.pkl','wb'))\n",
        "pickle.dump(ct,open('encoder.pkl','wb'))\n",
        "pickle.dump(le,open('gender_encoder.pkl','wb'))"
      ],
      "metadata": {
        "id": "0zJYpBLGYcLm"
      },
      "execution_count": null,
      "outputs": []
    },
    {
      "cell_type": "code",
      "source": [],
      "metadata": {
        "id": "oWM2yyMvbsu6"
      },
      "execution_count": null,
      "outputs": []
    }
  ]
}